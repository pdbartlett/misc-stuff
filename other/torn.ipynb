{
 "cells": [
  {
   "cell_type": "code",
   "execution_count": 1,
   "id": "4ab6186d-88cb-41ff-96ec-25b6832a4ca2",
   "metadata": {},
   "outputs": [
    {
     "name": "stdout",
     "output_type": "stream",
     "text": [
      "20/09/2025, 22:57:32\n",
      "\u001b[33m1758405452\u001b[39m\n",
      "\u001b[33m1750629452\u001b[39m\n"
     ]
    }
   ],
   "source": [
    "interface BasicDetails {\n",
    "  readonly id: number;\n",
    "  name: string;\n",
    "  level: number;\n",
    "  days_in_faction: number;\n",
    "}\n",
    "\n",
    "interface V1BasicDetails {\n",
    "  age: number;\n",
    "  friends: number;\n",
    "  enemies: number;\n",
    "}\n",
    "\n",
    "type Base = BasicDetails & V1BasicDetails\n",
    "    \n",
    "interface Member extends Base {\n",
    "  racing_skill: number;\n",
    "  total_respect: number;\n",
    "  best_damage: number;\n",
    "  total_crimes: number;\n",
    "  xanax_taken: number;\n",
    "  energy_refills: number;\n",
    "  wars_in_faction: number;\n",
    "  wars_participated: number;\n",
    "  wars_total_attacks: number;\n",
    "  wars_total_score: number;\n",
    "}\n",
    "\n",
    "const KEYARG = \"key=lBSMTY8Q2t3xzIlp\"\n",
    "const NUMDAYS = 90\n",
    "\n",
    "const now = Temporal.Now.instant()\n",
    "console.log(now.toLocaleString())\n",
    "const nowTS = Math.floor(now.epochMilliseconds / 1000)\n",
    "console.log(nowTS)\n",
    "const sinceTS = nowTS - NUMDAYS * 24 * 60 * 60\n",
    "console.log(sinceTS)"
   ]
  },
  {
   "cell_type": "code",
   "execution_count": 2,
   "id": "a2fbc326-de53-4077-965a-3216297fe17e",
   "metadata": {},
   "outputs": [],
   "source": [
    "const getFactBasic = () => fetch(`https://api.torn.com/v2/faction/basic?${KEYARG}`)"
   ]
  },
  {
   "cell_type": "code",
   "execution_count": 3,
   "id": "2d0c84df-f2b9-4282-9a0f-6946bfa6b90b",
   "metadata": {},
   "outputs": [],
   "source": [
    "const getFactMembers = () => fetch(`https://api.torn.com/v2/faction/members?striptags=true&${KEYARG}`)"
   ]
  },
  {
   "cell_type": "code",
   "execution_count": 4,
   "id": "1d0b13f5-ce6f-4cd2-b65c-2ce0193f5564",
   "metadata": {},
   "outputs": [],
   "source": [
    "const getV1BasicDetails = (id: number) => fetch(`https://api.torn.com/user/${id}?selections=profile&${KEYARG}`)"
   ]
  },
  {
   "cell_type": "code",
   "execution_count": 5,
   "id": "0bec8cfe-346e-49df-8c5c-508f473a6d09",
   "metadata": {},
   "outputs": [],
   "source": [
    "const getPersonalStats = (id: number) => fetch(`https://api.torn.com/v2/user/${id}/personalstats?cat=all&${KEYARG}`)"
   ]
  },
  {
   "cell_type": "code",
   "execution_count": 6,
   "id": "2fc549a4-acbd-4fde-a911-b5b64cfda67a",
   "metadata": {},
   "outputs": [],
   "source": [
    "const getRankedWars = () => fetch(`https://api.torn.com/v2/faction/rankedwars?${KEYARG}`)"
   ]
  },
  {
   "cell_type": "code",
   "execution_count": 7,
   "id": "703f4ff9-057d-4421-816f-f202e4c92be6",
   "metadata": {},
   "outputs": [],
   "source": [
    "const getRwReport = (id: number) => fetch(`https://api.torn.com/v2/faction/${id}/rankedwarreport?${KEYARG}`)"
   ]
  },
  {
   "cell_type": "code",
   "execution_count": 8,
   "id": "fa57183e-a161-4193-8e78-2e89a40e5561",
   "metadata": {},
   "outputs": [],
   "source": [
    "const getChains = () => fetch(`https://api.torn.com/v2/faction/chains?${KEYARG}`)"
   ]
  },
  {
   "cell_type": "code",
   "execution_count": 9,
   "id": "12ff981d-e6ff-476d-b07e-f67e642e5c9c",
   "metadata": {},
   "outputs": [],
   "source": [
    "const getChainReport = (id: number) => fetch(`https://api.torn.com/v2/faction/${id}/chainreport?${KEYARG}`)"
   ]
  },
  {
   "cell_type": "code",
   "execution_count": 10,
   "id": "76feb593-7b2f-41b8-a9fb-ed509f7af90e",
   "metadata": {},
   "outputs": [],
   "source": [
    "function createMember(o: BasicDetails): Member {\n",
    "  return {id: o.id, name: o.name, level: o.level, days_in_faction: o.days_in_faction,\n",
    "    wars_in_faction: 0, wars_participated: 0, wars_total_attacks: 0, wars_total_score: 0}\n",
    "}"
   ]
  },
  {
   "cell_type": "code",
   "execution_count": 11,
   "id": "925c622b-ce6b-4909-a1c1-8ca0eb9a2006",
   "metadata": {},
   "outputs": [],
   "source": [
    "function updateWithV1BasicDetails(m: Member, o: V1BasicDetails) {\n",
    "  m.age = o.age\n",
    "  m.friends = o.friends\n",
    "  m.enemies = o.enemies\n",
    "}"
   ]
  },
  {
   "cell_type": "code",
   "execution_count": 12,
   "id": "38774ecb-8c90-403f-8045-de219b5b0536",
   "metadata": {},
   "outputs": [],
   "source": [
    "function updateWithPersonalStats(m: Member, o: any) {\n",
    "  m.racing_skill = o.racing.skill\n",
    "  m.total_respect = o.attacking.faction.respect\n",
    "  m.best_damage = o.attacking.damage.best\n",
    "  m.total_crimes = o.crimes.total\n",
    "  m.xanax_taken = o.drugs.xanax\n",
    "  m.energy_refills = o.other.refills.energy\n",
    "}"
   ]
  },
  {
   "cell_type": "code",
   "execution_count": 13,
   "id": "ecbbf378-766b-4c7c-9c64-8809301408f2",
   "metadata": {},
   "outputs": [],
   "source": [
    "async function fetchData() {\n",
    "  const factBasic = await getFactBasic().\n",
    "      then((resp) => resp.json()).\n",
    "      then((obj) => obj.basic)\n",
    "  //console.log(factBasic)\n",
    "  const factMems = await getFactMembers().\n",
    "      then((resp) => resp.json()).\n",
    "      then((obj) => obj.members)\n",
    "  //console.log(factMems)\n",
    "  const members: Member[] = factMems.map(createMember)\n",
    "  for (let m of members) {\n",
    "    const basic = await getV1BasicDetails(m.id).\n",
    "        then((resp) => resp.json())\n",
    "    //console.log(basic)\n",
    "    updateWithV1BasicDetails(m, basic)\n",
    "    const stats = await getPersonalStats(m.id).\n",
    "        then((resp) => resp.json()).\n",
    "        then((obj) => obj.personalstats)\n",
    "    //console.log(stats)\n",
    "    updateWithPersonalStats(m, stats)\n",
    "  }\n",
    "  const memberMap = new Map(members.map(m => [m.id, m]))\n",
    "  //console.log(memberMap)\n",
    "  const wars = await getRankedWars().\n",
    "      then((resp) => resp.json()).\n",
    "      then((obj) => obj.rankedwars)\n",
    "  //console.log(wars)\n",
    "  for (const w of wars) {\n",
    "    if (w.end < sinceTS) {\n",
    "      break\n",
    "    }\n",
    "    const report = await getRwReport(w.id).\n",
    "        then((resp) => resp.json()).\n",
    "        then((obj) => obj.rankedwarreport)\n",
    "    //console.log(report)\n",
    "    for (const f of report.factions) {\n",
    "      if (f.id != factBasic.id) {\n",
    "        continue;\n",
    "      }\n",
    "      for (const rwm of f.members) {\n",
    "        const m = memberMap.get(rwm.id)\n",
    "        if (m === undefined) {\n",
    "          //console.log(`Could not find member id ${rwm.id} (${rwm.name}); probably left faction`)\n",
    "          continue\n",
    "        }\n",
    "        m.wars_in_faction++\n",
    "        if (rwm.attacks > 0) {\n",
    "          m.wars_participated++\n",
    "          m.wars_total_attacks += rwm.attacks\n",
    "          m.wars_total_score += rwm.score\n",
    "        }\n",
    "      }\n",
    "    }\n",
    "  }\n",
    "  const chains = await getChains().\n",
    "      then((resp) => resp.json()).\n",
    "      then((obj) => obj.chains)\n",
    "  //console.log(chains)\n",
    "  for (const ch of chains) {\n",
    "    if (ch.end < sinceTS || ch.chain < 100) {\n",
    "        continue\n",
    "    }\n",
    "    const report = await getChainReport(ch.id).\n",
    "        then((resp) => resp.json()).\n",
    "        then((obj) => obj.chainreport)\n",
    "    //console.log(report)\n",
    "    if (report.details.war > 0) {\n",
    "      // We could extract more war stats, if wanted.\n",
    "      continue\n",
    "    }\n",
    "    for (const att of report.attackers) {\n",
    "      const m = memberMap.get(att.id)\n",
    "      if (m === undefined) {\n",
    "        //console.log(`Could not find member id ${att.id}; probably left faction`)\n",
    "        continue\n",
    "      }\n",
    "      /*m.wars_in_faction++\n",
    "      if (rwm.attacks > 0) {\n",
    "        m.wars_participated++\n",
    "        m.wars_total_attacks += rwm.attacks\n",
    "        m.wars_total_score += rwm.score\n",
    "      }*/\n",
    "    }\n",
    "  }\n",
    "  //console.log(memberMap)\n",
    "  console.log(`# ${NUMDAYS}-day faction member activity report for ${factBasic.name} [${factBasic.id}] upto ${now.toLocaleString()}`) \n",
    "  return Array.from(memberMap.values())\n",
    "}"
   ]
  },
  {
   "cell_type": "code",
   "execution_count": 14,
   "id": "62d0db98-dd4c-48d2-ac82-849a27bc971e",
   "metadata": {},
   "outputs": [
    {
     "name": "stdout",
     "output_type": "stream",
     "text": [
      "# 90-day faction member activity report for Human Factor [48025] upto 20/09/2025, 22:57:32\n",
      "id,name,level,days_in_faction,wars_in_faction,wars_participated,wars_total_attacks,wars_total_score,age,friends,enemies,racing_skill,total_respect,best_damage,total_crimes,xanax_taken,energy_refills\n",
      "1513734,\"Big_Tex1429\",93,270,3,3,213,1407.09,5406,20,10,16,42273,7231,52369,2776,1316\n",
      "2122084,\"Mingle\",100,277,3,3,401,2548.84,2687,57,18,32,59132,17599,78399,3102,1030\n",
      "2143613,\"Talendrife\",85,277,3,3,260,1646.1,2646,7,5,25,70717,13149,106583,54,1866\n",
      "2637832,\"Lexii\",90,277,3,3,306,2576.55,1727,114,18,28,44585,8694,77828,3044,986\n",
      "2733982,\"DukeSilver\",84,16,1,1,81,481.2,1398,21,26,7,18499,8075,46593,2147,636\n",
      "2734960,\"Sofro\",24,67,2,2,112,703.66,1394,1,0,4,1497,1673,4450,28,97\n",
      "2801249,\"Socharis\",96,271,3,2,232,1446.25,1159,9,1,50,45968,5602,70635,1887,847\n",
      "2843077,\"AUSTINEZ\",29,178,3,2,40,236.23,1049,4,4,3,2442,1794,3029,115,21\n",
      "2919031,\"Rhysand\",55,271,3,2,153,697.49,880,8,3,6,11012,3210,42012,1314,218\n",
      "3037508,\"Kitana1988\",69,270,3,2,247,1339.06,763,5,6,14,46556,5856,54461,1758,653\n",
      "3220181,\"Dead_eye3659\",39,110,3,2,41,198.13,583,48,5,2,3440,1650,19144,26,12\n",
      "3249261,\"Sniffles666\",29,14,1,1,73,517.36,545,13,0,9,1083,1299,12702,43,7\n",
      "3360473,\"Giftedbasicbee\",31,16,1,1,13,82.65,427,3,0,1,1938,4396,11001,306,4\n",
      "3399067,\"CunniLinguist\",45,11,1,1,14,59.52,389,21,5,3,8730,18023,24275,830,273\n",
      "3509557,\"Shodgson\",22,271,3,3,59,454.64000000000004,292,2,5,1,2911,1614,12081,117,10\n",
      "3527061,\"Tsik\",20,271,3,2,75,422.74,277,3,1,2,3820,2172,7538,158,11\n",
      "3542978,\"HUMBLED-sama\",31,258,3,2,208,1599.27,264,7,2,5,4325,3586,4832,186,29\n",
      "3562079,\"VeronicaMars\",29,190,3,2,138,615.95,251,4,0,1,742,1609,15738,168,25\n",
      "3602025,\"Fikowi\",29,54,2,2,108,548.45,223,2,0,11,2520,1966,8078,101,9\n",
      "3611176,\"DSoul\",29,6,0,0,0,0,217,1,1,2,322,1291,8324,58,10\n",
      "3623941,\"Schwartzenadder\",43,159,3,3,260,1703.02,209,6,2,15,7174,2076,12686,165,48\n",
      "3646316,\"ShaboingBong\",30,167,3,2,92,466.53000000000003,194,7,0,2,1678,1552,9155,152,29\n",
      "3689746,\"_Rina_\",25,109,3,3,61,343.59,164,5,2,1,1697,1652,5708,61,2\n",
      "3689754,\"Cringe_Lord\",25,119,3,3,30,177.99999999999997,164,4,1,1,851,1231,6097,37,1\n",
      "3713328,\"SweetPetite\",30,146,3,3,136,757.36,149,20,1,12,2811,1903,14936,141,33\n",
      "3743574,\"rsty\",25,119,3,2,178,1262.73,130,3,2,1,2454,1848,8901,227,48\n",
      "3799007,\"NTHRITE\",20,88,3,3,23,118.17,111,2,0,1,364,1337,2072,48,0\n",
      "3800126,\"Astroodancer\",21,21,1,1,32,141.51,110,2,0,2,772,1411,8993,23,4\n",
      "3825722,\"Boduki\",24,84,3,3,98,536.2399999999999,98,6,2,9,1670,1403,6897,76,5\n",
      "3873916,\"Parzival175\",16,54,2,2,92,514.8,64,6,0,1,738,1467,2673,70,19\n",
      "3894597,\"Ahmad1Albustami\",19,27,1,1,56,376.28,47,0,0,1,786,971,2504,27,1\n"
     ]
    }
   ],
   "source": [
    "const data = await fetchData()\n",
    "//console.log(data)\n",
    "const fields = Object.keys(data[0])\n",
    "const replacer = (key, value) => value === null ? '' : value \n",
    "var csv = data.map(row => fields.map(fieldName => JSON.stringify(row[fieldName], replacer)).join(','))\n",
    "csv.unshift(fields.join(',')) // add header row\n",
    "const out = csv.join('\\r\\n');\n",
    "console.log(out)"
   ]
  }
 ],
 "metadata": {
  "kernelspec": {
   "display_name": "Deno",
   "language": "typescript",
   "name": "deno"
  },
  "language_info": {
   "codemirror_mode": "typescript",
   "file_extension": ".ts",
   "mimetype": "text/x.typescript",
   "name": "typescript",
   "nbconvert_exporter": "script",
   "pygments_lexer": "typescript",
   "version": "5.8.3"
  }
 },
 "nbformat": 4,
 "nbformat_minor": 5
}

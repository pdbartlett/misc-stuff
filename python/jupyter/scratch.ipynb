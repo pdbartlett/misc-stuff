{
 "cells": [
  {
   "cell_type": "markdown",
   "id": "c297812c-4481-490d-98c4-6b13f4f651e4",
   "metadata": {},
   "source": [
    "# Markdown cell for structure / text\n",
    "\n",
    "Here are some example cells to see how we can render them nicely into a PDF document via LaTeX."
   ]
  },
  {
   "cell_type": "code",
   "execution_count": null,
   "id": "836e3aeb-2499-484d-99d0-e965ee283fb3",
   "metadata": {},
   "outputs": [],
   "source": [
    "import polars as pl\n",
    "import pyarrow\n",
    "\n",
    "pl.Config.set_tbl_hide_dataframe_shape(True)\n",
    "\n",
    "df = pl.DataFrame(\n",
    "    {\n",
    "        \"foo\": [\"A\", \"A\", \"B\", \"B\"],\n",
    "        \"bar\": [\"a\", \"b\", \"a\", \"b\"],\n",
    "        \"N\": [1, 2, 2, 4],\n",
    "        \"M\": [1, 4, 3, 5],\n",
    "    }\n",
    ")\n",
    "df.to_pandas()"
   ]
  },
  {
   "cell_type": "code",
   "execution_count": null,
   "id": "277f1cac-cfba-4c7d-abce-35b3f21a55dd",
   "metadata": {},
   "outputs": [],
   "source": [
    "from IPython.display import display, Latex\n",
    "display(Latex(df.pivot(index=\"foo\", columns=\"bar\", values=[\"N\",\"M\"], aggregate_function=\"first\").to_pandas().to_latex()))"
   ]
  },
  {
   "cell_type": "markdown",
   "id": "93a82af7-7058-497e-bdfe-e55eb6531c61",
   "metadata": {},
   "source": [
    "Some more literal text, just to break things up a little."
   ]
  },
  {
   "cell_type": "code",
   "execution_count": null,
   "id": "274ef764-f207-4b4d-87bb-b83995fc0c4a",
   "metadata": {},
   "outputs": [],
   "source": [
    "from scipy import optimize\n",
    "optimize.newton(lambda x: x**2 - 2, 1.5)"
   ]
  },
  {
   "cell_type": "code",
   "execution_count": null,
   "id": "f96892ca-de46-45ef-aab7-c88fe6e8a26a",
   "metadata": {},
   "outputs": [],
   "source": [
    "from IPython.display import Image\n",
    "Image(filename='600x400.png')"
   ]
  },
  {
   "cell_type": "code",
   "execution_count": null,
   "id": "4b0aea98-063a-485c-8d35-3b10495f6b21",
   "metadata": {},
   "outputs": [],
   "source": [
    "from IPython.display import SVG\n",
    "SVG(filename=\"helloworld.svg\")"
   ]
  }
 ],
 "metadata": {
  "kernelspec": {
   "display_name": "Python 3 (ipykernel)",
   "language": "python",
   "name": "python3"
  },
  "language_info": {
   "codemirror_mode": {
    "name": "ipython",
    "version": 3
   },
   "file_extension": ".py",
   "mimetype": "text/x-python",
   "name": "python",
   "nbconvert_exporter": "python",
   "pygments_lexer": "ipython3",
   "version": "3.12.7"
  }
 },
 "nbformat": 4,
 "nbformat_minor": 5
}

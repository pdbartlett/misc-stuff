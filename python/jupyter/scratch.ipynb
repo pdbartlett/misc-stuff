{
 "cells": [
  {
   "cell_type": "markdown",
   "id": "c297812c-4481-490d-98c4-6b13f4f651e4",
   "metadata": {},
   "source": [
    "# Markdown cell for structure / text\n",
    "\n",
    "Here are some example cells to see how we can render them nicely into a PDF document via LaTeX."
   ]
  },
  {
   "cell_type": "code",
   "execution_count": 2,
   "id": "836e3aeb-2499-484d-99d0-e965ee283fb3",
   "metadata": {},
   "outputs": [
    {
     "data": {
      "text/html": [
       "<div>\n",
       "<style scoped>\n",
       "    .dataframe tbody tr th:only-of-type {\n",
       "        vertical-align: middle;\n",
       "    }\n",
       "\n",
       "    .dataframe tbody tr th {\n",
       "        vertical-align: top;\n",
       "    }\n",
       "\n",
       "    .dataframe thead th {\n",
       "        text-align: right;\n",
       "    }\n",
       "</style>\n",
       "<table border=\"1\" class=\"dataframe\">\n",
       "  <thead>\n",
       "    <tr style=\"text-align: right;\">\n",
       "      <th></th>\n",
       "      <th>foo</th>\n",
       "      <th>bar</th>\n",
       "      <th>N</th>\n",
       "      <th>M</th>\n",
       "    </tr>\n",
       "  </thead>\n",
       "  <tbody>\n",
       "    <tr>\n",
       "      <th>0</th>\n",
       "      <td>A</td>\n",
       "      <td>a</td>\n",
       "      <td>1</td>\n",
       "      <td>1</td>\n",
       "    </tr>\n",
       "    <tr>\n",
       "      <th>1</th>\n",
       "      <td>A</td>\n",
       "      <td>b</td>\n",
       "      <td>2</td>\n",
       "      <td>4</td>\n",
       "    </tr>\n",
       "    <tr>\n",
       "      <th>2</th>\n",
       "      <td>B</td>\n",
       "      <td>a</td>\n",
       "      <td>2</td>\n",
       "      <td>3</td>\n",
       "    </tr>\n",
       "    <tr>\n",
       "      <th>3</th>\n",
       "      <td>B</td>\n",
       "      <td>b</td>\n",
       "      <td>4</td>\n",
       "      <td>5</td>\n",
       "    </tr>\n",
       "  </tbody>\n",
       "</table>\n",
       "</div>"
      ],
      "text/plain": [
       "  foo bar  N  M\n",
       "0   A   a  1  1\n",
       "1   A   b  2  4\n",
       "2   B   a  2  3\n",
       "3   B   b  4  5"
      ]
     },
     "execution_count": 2,
     "metadata": {},
     "output_type": "execute_result"
    }
   ],
   "source": [
    "import polars as pl\n",
    "import pyarrow\n",
    "\n",
    "pl.Config.set_tbl_hide_dataframe_shape(True)\n",
    "\n",
    "df = pl.DataFrame(\n",
    "    {\n",
    "        \"foo\": [\"A\", \"A\", \"B\", \"B\"],\n",
    "        \"bar\": [\"a\", \"b\", \"a\", \"b\"],\n",
    "        \"N\": [1, 2, 2, 4],\n",
    "        \"M\": [1, 4, 3, 5],\n",
    "    }\n",
    ")\n",
    "df.to_pandas()"
   ]
  },
  {
   "cell_type": "code",
   "execution_count": 3,
   "id": "277f1cac-cfba-4c7d-abce-35b3f21a55dd",
   "metadata": {},
   "outputs": [
    {
     "data": {
      "text/latex": [
       "\\begin{tabular}{llrrrr}\n",
       "\\toprule\n",
       " & foo & N_bar_a & N_bar_b & M_bar_a & M_bar_b \\\\\n",
       "\\midrule\n",
       "0 & A & 1 & 2 & 1 & 4 \\\\\n",
       "1 & B & 2 & 4 & 3 & 5 \\\\\n",
       "\\bottomrule\n",
       "\\end{tabular}\n"
      ],
      "text/plain": [
       "<IPython.core.display.Latex object>"
      ]
     },
     "metadata": {},
     "output_type": "display_data"
    }
   ],
   "source": [
    "from IPython.display import display, Latex\n",
    "display(Latex(df.pivot(index=\"foo\", columns=\"bar\", values=[\"N\",\"M\"], aggregate_function=\"first\").to_pandas().to_latex()))"
   ]
  },
  {
   "cell_type": "markdown",
   "id": "93a82af7-7058-497e-bdfe-e55eb6531c61",
   "metadata": {},
   "source": [
    "Some more literal text, just to break things up a little."
   ]
  },
  {
   "cell_type": "code",
   "execution_count": 4,
   "id": "274ef764-f207-4b4d-87bb-b83995fc0c4a",
   "metadata": {},
   "outputs": [
    {
     "data": {
      "text/plain": [
       "1.4142135623730951"
      ]
     },
     "execution_count": 4,
     "metadata": {},
     "output_type": "execute_result"
    }
   ],
   "source": [
    "from scipy import optimize\n",
    "optimize.newton(lambda x: x**2 - 2, 1.5)"
   ]
  },
  {
   "cell_type": "code",
   "execution_count": 5,
   "id": "f96892ca-de46-45ef-aab7-c88fe6e8a26a",
   "metadata": {},
   "outputs": [
    {
     "data": {
      "image/png": "[encoded data removed]",
      "text/plain": [
       "<IPython.core.display.Image object>"
      ]
     },
     "execution_count": 5,
     "metadata": {},
     "output_type": "execute_result"
    }
   ],
   "source": [
    "from IPython.display import Image\n",
    "Image(filename='600x400.png')"
   ]
  },
  {
   "cell_type": "code",
   "execution_count": 6,
   "id": "4b0aea98-063a-485c-8d35-3b10495f6b21",
   "metadata": {},
   "outputs": [
    {
     "data": {
      "image/svg+xml": [
       "<svg xmlns=\"http://www.w3.org/2000/svg\" width=\"600\" height=\"400\" viewBox=\"0 0 600 400\"><rect width=\"100%\" height=\"100%\" fill=\"#DDDDDD\"/><path fill=\"#999999\" d=\"M154.505 176.2h9.05v48.44h-9.05v-21.17h-22.74v21.17h-9.05V176.2h9.05v20.84h22.74V176.2Zm25.06 27.3h15.61q0-1.61-.45-3.03-.45-1.42-1.36-2.5-.9-1.07-2.29-1.69-1.39-.62-3.23-.62-3.59 0-5.65 2.05-2.06 2.04-2.63 5.79Zm21.11 4.99h-21.28q.2 2.65.94 4.58.74 1.92 1.94 3.18 1.21 1.25 2.87 1.87 1.66.62 3.67.62t3.46-.47q1.46-.46 2.55-1.03 1.09-.57 1.91-1.04.82-.47 1.59-.47 1.04 0 1.54.77l2.38 3.01q-1.37 1.61-3.08 2.7t-3.57 1.74q-1.86.66-3.78.92-1.93.27-3.74.27-3.58 0-6.67-1.19-3.08-1.19-5.36-3.51-2.27-2.33-3.58-5.77-1.31-3.43-1.31-7.95 0-3.52 1.14-6.62t3.27-5.39q2.12-2.3 5.19-3.64 3.07-1.34 6.92-1.34 3.25 0 5.99 1.04 2.75 1.04 4.73 3.03 1.97 2 3.1 4.89 1.12 2.9 1.12 6.62 0 1.88-.4 2.53-.41.65-1.54.65Zm8.24-33.63h8.27v49.78h-8.27v-49.78Zm16.65 0h8.27v49.78h-8.27v-49.78Zm31.75 14.87q3.82 0 6.96 1.24 3.13 1.24 5.36 3.52 2.22 2.28 3.43 5.56t1.21 7.34q0 4.08-1.21 7.37-1.21 3.28-3.43 5.59-2.23 2.31-5.36 3.55-3.14 1.24-6.96 1.24-3.85 0-7-1.24t-5.37-3.55q-2.23-2.31-3.45-5.59-1.23-3.29-1.23-7.37 0-4.06 1.23-7.34 1.22-3.28 3.45-5.56 2.22-2.28 5.37-3.52 3.15-1.24 7-1.24Zm0 29.05q4.29 0 6.35-2.88 2.06-2.88 2.06-8.45 0-5.56-2.06-8.47-2.06-2.92-6.35-2.92-4.35 0-6.44 2.94-2.1 2.93-2.1 8.45 0 5.53 2.1 8.43 2.09 2.9 6.44 2.9Zm98.26-42.58h7.07l-15.04 48.44h-8.14l-10.59-33.1q-.44-1.2-.8-2.95-.2.84-.41 1.58-.2.74-.43 1.37l-10.69 33.1h-8.17l-15.01-48.44h7.54q1.17 0 1.96.55.78.55 1.05 1.49l8.24 28.98q.27 1.07.52 2.33.25 1.25.52 2.63.27-1.41.59-2.65.32-1.24.69-2.31l9.51-28.98q.27-.77 1.05-1.4.79-.64 1.93-.64h2.65q1.17 0 1.91.57.73.57 1.1 1.47l9.48 28.98q.71 2.08 1.28 4.79.43-2.65.97-4.79l8.24-28.98q.2-.83 1.02-1.44.82-.6 1.96-.6Zm26.93 13.53q3.82 0 6.96 1.24 3.13 1.24 5.36 3.52 2.22 2.28 3.43 5.56 1.2 3.28 1.2 7.34 0 4.08-1.2 7.37-1.21 3.28-3.43 5.59-2.23 2.31-5.36 3.55-3.14 1.24-6.96 1.24-3.85 0-7-1.24t-5.37-3.55q-2.23-2.31-3.45-5.59-1.23-3.29-1.23-7.37 0-4.06 1.23-7.34 1.22-3.28 3.45-5.56 2.22-2.28 5.37-3.52 3.15-1.24 7-1.24Zm0 29.05q4.29 0 6.35-2.88 2.06-2.88 2.06-8.45 0-5.56-2.06-8.47-2.06-2.92-6.35-2.92-4.35 0-6.44 2.94-2.1 2.93-2.1 8.45 0 5.53 2.1 8.43 2.09 2.9 6.44 2.9Zm30.59-26.43.5 3.88q1.61-3.08 3.82-4.84 2.21-1.76 5.23-1.76 2.38 0 3.82 1.04l-.54 6.2q-.17.6-.49.85-.31.25-.85.25-.5 0-1.49-.16-.99-.17-1.93-.17-1.37 0-2.44.4-1.07.4-1.93 1.16-.85.75-1.51 1.82-.65 1.07-1.22 2.45v21.17h-8.27v-34.37h4.85q1.28 0 1.78.45t.67 1.63Zm17.79-17.49h8.27v49.78h-8.27v-49.78Zm38.12 39.6v-15.41q-1.41-1.71-3.06-2.42-1.66-.7-3.57-.7-1.88 0-3.39.7-1.5.71-2.58 2.13-1.07 1.42-1.64 3.62-.57 2.19-.57 5.17 0 3.02.49 5.11.49 2.1 1.39 3.42.9 1.32 2.21 1.91 1.31.59 2.92.59 2.57 0 4.38-1.08 1.81-1.07 3.42-3.04Zm0-39.6h8.28v49.78h-5.06q-1.64 0-2.08-1.51l-.7-3.31q-2.08 2.37-4.78 3.85-2.69 1.47-6.28 1.47-2.81 0-5.16-1.17-2.34-1.17-4.03-3.4-1.7-2.23-2.62-5.51-.92-3.28-.92-7.51 0-3.81 1.04-7.1 1.04-3.28 2.98-5.69 1.94-2.41 4.66-3.77 2.71-1.36 6.09-1.36 2.89 0 4.93.91 2.04.9 3.65 2.44v-18.12Z\"/></svg>"
      ],
      "text/plain": [
       "<IPython.core.display.SVG object>"
      ]
     },
     "execution_count": 6,
     "metadata": {},
     "output_type": "execute_result"
    }
   ],
   "source": [
    "from IPython.display import SVG\n",
    "SVG(filename=\"helloworld.svg\")"
   ]
  }
 ],
 "metadata": {
  "kernelspec": {
   "display_name": "Python 3 (ipykernel)",
   "language": "python",
   "name": "python3"
  },
  "language_info": {
   "codemirror_mode": {
    "name": "ipython",
    "version": 3
   },
   "file_extension": ".py",
   "mimetype": "text/x-python",
   "name": "python",
   "nbconvert_exporter": "python",
   "pygments_lexer": "ipython3",
   "version": "3.12.1"
  }
 },
 "nbformat": 4,
 "nbformat_minor": 5
}

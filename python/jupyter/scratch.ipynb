{
 "cells": [
  {
   "cell_type": "code",
   "execution_count": 4,
   "id": "836e3aeb-2499-484d-99d0-e965ee283fb3",
   "metadata": {},
   "outputs": [
    {
     "data": {
      "text/html": [
       "<div><style>\n",
       ".dataframe > thead > tr,\n",
       ".dataframe > tbody > tr {\n",
       "  text-align: right;\n",
       "  white-space: pre-wrap;\n",
       "}\n",
       "</style>\n",
       "<small>shape: (2, 5)</small><table border=\"1\" class=\"dataframe\"><thead><tr><th>foo</th><th>N_bar_a</th><th>N_bar_b</th><th>M_bar_a</th><th>M_bar_b</th></tr><tr><td>str</td><td>i64</td><td>i64</td><td>i64</td><td>i64</td></tr></thead><tbody><tr><td>&quot;A&quot;</td><td>1</td><td>2</td><td>1</td><td>4</td></tr><tr><td>&quot;B&quot;</td><td>2</td><td>4</td><td>3</td><td>5</td></tr></tbody></table></div>"
      ],
      "text/plain": [
       "shape: (2, 5)\n",
       "┌─────┬─────────┬─────────┬─────────┬─────────┐\n",
       "│ foo ┆ N_bar_a ┆ N_bar_b ┆ M_bar_a ┆ M_bar_b │\n",
       "│ --- ┆ ---     ┆ ---     ┆ ---     ┆ ---     │\n",
       "│ str ┆ i64     ┆ i64     ┆ i64     ┆ i64     │\n",
       "╞═════╪═════════╪═════════╪═════════╪═════════╡\n",
       "│ A   ┆ 1       ┆ 2       ┆ 1       ┆ 4       │\n",
       "│ B   ┆ 2       ┆ 4       ┆ 3       ┆ 5       │\n",
       "└─────┴─────────┴─────────┴─────────┴─────────┘"
      ]
     },
     "execution_count": 4,
     "metadata": {},
     "output_type": "execute_result"
    }
   ],
   "source": [
    "import polars as pl\n",
    "df = pl.DataFrame(\n",
    "    {\n",
    "        \"foo\": [\"A\", \"A\", \"B\", \"B\"],\n",
    "        \"bar\": [\"a\", \"b\", \"a\", \"b\"],\n",
    "        \"N\": [1, 2, 2, 4],\n",
    "        \"M\": [1, 4, 3, 5],\n",
    "    }\n",
    ")\n",
    "df.pivot(index=\"foo\", columns=\"bar\", values=[\"N\",\"M\"], aggregate_function=\"first\")"
   ]
  },
  {
   "cell_type": "code",
   "execution_count": 6,
   "id": "274ef764-f207-4b4d-87bb-b83995fc0c4a",
   "metadata": {},
   "outputs": [
    {
     "data": {
      "text/plain": [
       "1.4142135623730951"
      ]
     },
     "execution_count": 6,
     "metadata": {},
     "output_type": "execute_result"
    }
   ],
   "source": [
    "from scipy import optimize\n",
    "optimize.newton(lambda x: x**2 - 2, 1.5)"
   ]
  },
  {
   "cell_type": "code",
   "execution_count": null,
   "id": "f96892ca-de46-45ef-aab7-c88fe6e8a26a",
   "metadata": {},
   "outputs": [],
   "source": []
  }
 ],
 "metadata": {
  "kernelspec": {
   "display_name": "Python 3 (ipykernel)",
   "language": "python",
   "name": "python3"
  },
  "language_info": {
   "codemirror_mode": {
    "name": "ipython",
    "version": 3
   },
   "file_extension": ".py",
   "mimetype": "text/x-python",
   "name": "python",
   "nbconvert_exporter": "python",
   "pygments_lexer": "ipython3",
   "version": "3.11.0"
  }
 },
 "nbformat": 4,
 "nbformat_minor": 5
}
